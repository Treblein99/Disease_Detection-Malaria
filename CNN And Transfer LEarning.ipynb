{
 "cells": [
  {
   "cell_type": "markdown",
   "metadata": {},
   "source": [
    "## Creating CNN Using Scratch And Transfer Learning"
   ]
  },
  {
   "cell_type": "code",
   "execution_count": 44,
   "metadata": {},
   "outputs": [],
   "source": [
    "# import the libraries as shown below\n",
    "\n",
    "import tensorflow as tf\n",
    "from tensorflow.keras.layers import Input, Lambda, Dense, Flatten, Conv2D, MaxPooling2D\n",
    "from tensorflow.keras.models import Model, load_model\n",
    "from tensorflow.keras.applications.vgg19 import VGG19\n",
    "from tensorflow.keras.applications.resnet50 import preprocess_input\n",
    "from tensorflow.keras.preprocessing import image\n",
    "from tensorflow.keras.preprocessing.image import ImageDataGenerator,load_img\n",
    "from tensorflow.keras.models import Sequential\n",
    "import numpy as np\n",
    "import scipy\n",
    "from glob import glob\n",
    "import matplotlib.pyplot as plt"
   ]
  },
  {
   "cell_type": "code",
   "execution_count": 45,
   "metadata": {},
   "outputs": [],
   "source": [
    "# re-size all the images to this\n",
    "IMAGE_SIZE = [224, 224]\n",
    "\n",
    "train_path = 'Dataset/Train'\n",
    "valid_path = 'Dataset/Test'\n"
   ]
  },
  {
   "cell_type": "code",
   "execution_count": 46,
   "metadata": {},
   "outputs": [],
   "source": [
    "# Import the Vgg 16 library as shown below and add preprocessing layer to the front of VGG\n",
    "# Here we will be using imagenet weights\n",
    "\n",
    "mobilnet = VGG19(input_shape=IMAGE_SIZE + [3], weights='imagenet', include_top=False)\n",
    "\n",
    "\n"
   ]
  },
  {
   "cell_type": "code",
   "execution_count": 47,
   "metadata": {},
   "outputs": [],
   "source": [
    "# don't train existing weights\n",
    "for layer in mobilnet.layers:\n",
    "    layer.trainable = False"
   ]
  },
  {
   "cell_type": "code",
   "execution_count": 48,
   "metadata": {},
   "outputs": [],
   "source": [
    "  # useful for getting number of output classes\n",
    "folders = glob('Dataset/Train/*')"
   ]
  },
  {
   "cell_type": "code",
   "execution_count": 49,
   "metadata": {},
   "outputs": [
    {
     "data": {
      "text/plain": [
       "['Dataset/Train\\\\Parasite', 'Dataset/Train\\\\Uninfected']"
      ]
     },
     "execution_count": 49,
     "metadata": {},
     "output_type": "execute_result"
    }
   ],
   "source": [
    "folders"
   ]
  },
  {
   "cell_type": "code",
   "execution_count": 50,
   "metadata": {},
   "outputs": [],
   "source": [
    "# our layers - you can add more if you want\n",
    "x = Flatten()(mobilnet.output)"
   ]
  },
  {
   "cell_type": "code",
   "execution_count": 51,
   "metadata": {},
   "outputs": [],
   "source": [
    "prediction = Dense(len(folders), activation='softmax')(x)\n",
    "\n",
    "# create a model object\n",
    "model = Model(inputs=mobilnet.input, outputs=prediction)"
   ]
  },
  {
   "cell_type": "code",
   "execution_count": 52,
   "metadata": {},
   "outputs": [
    {
     "name": "stdout",
     "output_type": "stream",
     "text": [
      "Model: \"model_1\"\n",
      "_________________________________________________________________\n",
      " Layer (type)                Output Shape              Param #   \n",
      "=================================================================\n",
      " input_2 (InputLayer)        [(None, 224, 224, 3)]     0         \n",
      "                                                                 \n",
      " block1_conv1 (Conv2D)       (None, 224, 224, 64)      1792      \n",
      "                                                                 \n",
      " block1_conv2 (Conv2D)       (None, 224, 224, 64)      36928     \n",
      "                                                                 \n",
      " block1_pool (MaxPooling2D)  (None, 112, 112, 64)      0         \n",
      "                                                                 \n",
      " block2_conv1 (Conv2D)       (None, 112, 112, 128)     73856     \n",
      "                                                                 \n",
      " block2_conv2 (Conv2D)       (None, 112, 112, 128)     147584    \n",
      "                                                                 \n",
      " block2_pool (MaxPooling2D)  (None, 56, 56, 128)       0         \n",
      "                                                                 \n",
      " block3_conv1 (Conv2D)       (None, 56, 56, 256)       295168    \n",
      "                                                                 \n",
      " block3_conv2 (Conv2D)       (None, 56, 56, 256)       590080    \n",
      "                                                                 \n",
      " block3_conv3 (Conv2D)       (None, 56, 56, 256)       590080    \n",
      "                                                                 \n",
      " block3_conv4 (Conv2D)       (None, 56, 56, 256)       590080    \n",
      "                                                                 \n",
      " block3_pool (MaxPooling2D)  (None, 28, 28, 256)       0         \n",
      "                                                                 \n",
      " block4_conv1 (Conv2D)       (None, 28, 28, 512)       1180160   \n",
      "                                                                 \n",
      " block4_conv2 (Conv2D)       (None, 28, 28, 512)       2359808   \n",
      "                                                                 \n",
      " block4_conv3 (Conv2D)       (None, 28, 28, 512)       2359808   \n",
      "                                                                 \n",
      " block4_conv4 (Conv2D)       (None, 28, 28, 512)       2359808   \n",
      "                                                                 \n",
      " block4_pool (MaxPooling2D)  (None, 14, 14, 512)       0         \n",
      "                                                                 \n",
      " block5_conv1 (Conv2D)       (None, 14, 14, 512)       2359808   \n",
      "                                                                 \n",
      " block5_conv2 (Conv2D)       (None, 14, 14, 512)       2359808   \n",
      "                                                                 \n",
      " block5_conv3 (Conv2D)       (None, 14, 14, 512)       2359808   \n",
      "                                                                 \n",
      " block5_conv4 (Conv2D)       (None, 14, 14, 512)       2359808   \n",
      "                                                                 \n",
      " block5_pool (MaxPooling2D)  (None, 7, 7, 512)         0         \n",
      "                                                                 \n",
      " flatten_2 (Flatten)         (None, 25088)             0         \n",
      "                                                                 \n",
      " dense_3 (Dense)             (None, 2)                 50178     \n",
      "                                                                 \n",
      "=================================================================\n",
      "Total params: 20074562 (76.58 MB)\n",
      "Trainable params: 50178 (196.01 KB)\n",
      "Non-trainable params: 20024384 (76.39 MB)\n",
      "_________________________________________________________________\n"
     ]
    }
   ],
   "source": [
    "\n",
    "# view the structure of the model\n",
    "model.summary()\n"
   ]
  },
  {
   "cell_type": "code",
   "execution_count": null,
   "metadata": {},
   "outputs": [],
   "source": []
  },
  {
   "cell_type": "code",
   "execution_count": 53,
   "metadata": {},
   "outputs": [
    {
     "name": "stdout",
     "output_type": "stream",
     "text": [
      "Model: \"sequential_1\"\n",
      "_________________________________________________________________\n",
      " Layer (type)                Output Shape              Param #   \n",
      "=================================================================\n",
      " conv2d_3 (Conv2D)           (None, 224, 224, 16)      208       \n",
      "                                                                 \n",
      " max_pooling2d_3 (MaxPoolin  (None, 112, 112, 16)      0         \n",
      " g2D)                                                            \n",
      "                                                                 \n",
      " conv2d_4 (Conv2D)           (None, 112, 112, 32)      2080      \n",
      "                                                                 \n",
      " max_pooling2d_4 (MaxPoolin  (None, 56, 56, 32)        0         \n",
      " g2D)                                                            \n",
      "                                                                 \n",
      " conv2d_5 (Conv2D)           (None, 56, 56, 64)        8256      \n",
      "                                                                 \n",
      " max_pooling2d_5 (MaxPoolin  (None, 28, 28, 64)        0         \n",
      " g2D)                                                            \n",
      "                                                                 \n",
      " flatten_3 (Flatten)         (None, 50176)             0         \n",
      "                                                                 \n",
      " dense_4 (Dense)             (None, 500)               25088500  \n",
      "                                                                 \n",
      " dense_5 (Dense)             (None, 2)                 1002      \n",
      "                                                                 \n",
      "=================================================================\n",
      "Total params: 25100046 (95.75 MB)\n",
      "Trainable params: 25100046 (95.75 MB)\n",
      "Non-trainable params: 0 (0.00 Byte)\n",
      "_________________________________________________________________\n"
     ]
    }
   ],
   "source": [
    "### Create Model from scratch using CNN\n",
    "model=Sequential()\n",
    "model.add(Conv2D(filters=16,kernel_size=2,padding=\"same\",activation=\"relu\",input_shape=(224,224,3)))\n",
    "model.add(MaxPooling2D(pool_size=2))\n",
    "model.add(Conv2D(filters=32,kernel_size=2,padding=\"same\",activation =\"relu\"))\n",
    "model.add(MaxPooling2D(pool_size=2))\n",
    "model.add(Conv2D(filters=64,kernel_size=2,padding=\"same\",activation=\"relu\"))\n",
    "model.add(MaxPooling2D(pool_size=2))\n",
    "model.add(Flatten())\n",
    "model.add(Dense(500,activation=\"relu\"))\n",
    "model.add(Dense(2,activation=\"softmax\"))\n",
    "model.summary()"
   ]
  },
  {
   "cell_type": "code",
   "execution_count": 54,
   "metadata": {},
   "outputs": [],
   "source": [
    "# tell the model what cost and optimization method to use\n",
    "model.compile(\n",
    "  loss='categorical_crossentropy',\n",
    "  optimizer='adam',\n",
    "  metrics=['accuracy']\n",
    ")\n"
   ]
  },
  {
   "cell_type": "code",
   "execution_count": 55,
   "metadata": {},
   "outputs": [],
   "source": [
    "# Use the Image Data Generator to import the images from the dataset\n",
    "\n",
    "train_datagen = ImageDataGenerator(rescale = 1./255,\n",
    "                                   shear_range = 0.2,\n",
    "                                   zoom_range = 0.2,\n",
    "                                   horizontal_flip = True)\n",
    "\n",
    "test_datagen = ImageDataGenerator(rescale = 1./255)"
   ]
  },
  {
   "cell_type": "code",
   "execution_count": 56,
   "metadata": {},
   "outputs": [
    {
     "name": "stdout",
     "output_type": "stream",
     "text": [
      "Found 416 images belonging to 2 classes.\n"
     ]
    }
   ],
   "source": [
    "# Make sure you provide the same target size as initialied for the image size\n",
    "training_set = train_datagen.flow_from_directory('Dataset/Train',\n",
    "                                                 target_size = (224, 224),\n",
    "                                                 batch_size = 32,\n",
    "                                                 class_mode = 'categorical')"
   ]
  },
  {
   "cell_type": "code",
   "execution_count": 57,
   "metadata": {},
   "outputs": [
    {
     "data": {
      "text/plain": [
       "<keras.src.preprocessing.image.DirectoryIterator at 0x19e083939d0>"
      ]
     },
     "execution_count": 57,
     "metadata": {},
     "output_type": "execute_result"
    }
   ],
   "source": [
    "training_set"
   ]
  },
  {
   "cell_type": "code",
   "execution_count": 58,
   "metadata": {},
   "outputs": [
    {
     "name": "stdout",
     "output_type": "stream",
     "text": [
      "Found 134 images belonging to 2 classes.\n"
     ]
    }
   ],
   "source": [
    "test_set = test_datagen.flow_from_directory('Dataset/Test',\n",
    "                                            target_size = (224, 224),\n",
    "                                            batch_size = 32,\n",
    "                                            class_mode = 'categorical')"
   ]
  },
  {
   "cell_type": "code",
   "execution_count": 59,
   "metadata": {
    "scrolled": true
   },
   "outputs": [
    {
     "name": "stdout",
     "output_type": "stream",
     "text": [
      "Epoch 1/50\n",
      "13/13 [==============================] - 35s 2s/step - loss: 0.8941 - accuracy: 0.5841 - val_loss: 0.7875 - val_accuracy: 0.6791\n",
      "Epoch 2/50\n",
      "13/13 [==============================] - 35s 3s/step - loss: 0.6114 - accuracy: 0.6803 - val_loss: 0.7170 - val_accuracy: 0.6791\n",
      "Epoch 3/50\n",
      "13/13 [==============================] - 35s 3s/step - loss: 0.5069 - accuracy: 0.7284 - val_loss: 0.7957 - val_accuracy: 0.4403\n",
      "Epoch 4/50\n",
      "13/13 [==============================] - 26s 2s/step - loss: 0.3678 - accuracy: 0.8341 - val_loss: 0.7606 - val_accuracy: 0.5448\n",
      "Epoch 5/50\n",
      "13/13 [==============================] - 27s 2s/step - loss: 0.2977 - accuracy: 0.8726 - val_loss: 0.5311 - val_accuracy: 0.7090\n",
      "Epoch 6/50\n",
      "13/13 [==============================] - 25s 2s/step - loss: 0.2808 - accuracy: 0.8966 - val_loss: 0.7379 - val_accuracy: 0.6194\n",
      "Epoch 7/50\n",
      "13/13 [==============================] - 23s 2s/step - loss: 0.2170 - accuracy: 0.9255 - val_loss: 0.4262 - val_accuracy: 0.8060\n",
      "Epoch 8/50\n",
      "13/13 [==============================] - 23s 2s/step - loss: 0.1750 - accuracy: 0.9399 - val_loss: 0.2987 - val_accuracy: 0.8731\n",
      "Epoch 9/50\n",
      "13/13 [==============================] - 25s 2s/step - loss: 0.1549 - accuracy: 0.9543 - val_loss: 0.2757 - val_accuracy: 0.8806\n",
      "Epoch 10/50\n",
      "13/13 [==============================] - 24s 2s/step - loss: 0.1158 - accuracy: 0.9615 - val_loss: 0.3489 - val_accuracy: 0.8657\n",
      "Epoch 11/50\n",
      "13/13 [==============================] - 24s 2s/step - loss: 0.0922 - accuracy: 0.9832 - val_loss: 0.4674 - val_accuracy: 0.8358\n",
      "Epoch 12/50\n",
      "13/13 [==============================] - 25s 2s/step - loss: 0.1330 - accuracy: 0.9495 - val_loss: 0.2377 - val_accuracy: 0.8955\n",
      "Epoch 13/50\n",
      "13/13 [==============================] - 29s 2s/step - loss: 0.1267 - accuracy: 0.9663 - val_loss: 0.3722 - val_accuracy: 0.8209\n",
      "Epoch 14/50\n",
      "13/13 [==============================] - 24s 2s/step - loss: 0.0952 - accuracy: 0.9688 - val_loss: 0.2867 - val_accuracy: 0.8881\n",
      "Epoch 15/50\n",
      "13/13 [==============================] - 25s 2s/step - loss: 0.0691 - accuracy: 0.9856 - val_loss: 0.4072 - val_accuracy: 0.8881\n",
      "Epoch 16/50\n",
      "13/13 [==============================] - 24s 2s/step - loss: 0.0594 - accuracy: 0.9808 - val_loss: 0.3996 - val_accuracy: 0.8731\n",
      "Epoch 17/50\n",
      "13/13 [==============================] - 25s 2s/step - loss: 0.0535 - accuracy: 0.9880 - val_loss: 0.5023 - val_accuracy: 0.8731\n",
      "Epoch 18/50\n",
      "13/13 [==============================] - 23s 2s/step - loss: 0.0605 - accuracy: 0.9832 - val_loss: 0.2992 - val_accuracy: 0.8955\n",
      "Epoch 19/50\n",
      "13/13 [==============================] - 23s 2s/step - loss: 0.0467 - accuracy: 0.9928 - val_loss: 0.3985 - val_accuracy: 0.8731\n",
      "Epoch 20/50\n",
      "13/13 [==============================] - 23s 2s/step - loss: 0.1164 - accuracy: 0.9712 - val_loss: 0.3117 - val_accuracy: 0.8806\n",
      "Epoch 21/50\n",
      "13/13 [==============================] - 24s 2s/step - loss: 0.0653 - accuracy: 0.9832 - val_loss: 0.4820 - val_accuracy: 0.8881\n",
      "Epoch 22/50\n",
      "13/13 [==============================] - 23s 2s/step - loss: 0.0681 - accuracy: 0.9832 - val_loss: 0.3656 - val_accuracy: 0.8955\n",
      "Epoch 23/50\n",
      "13/13 [==============================] - 23s 2s/step - loss: 0.0760 - accuracy: 0.9832 - val_loss: 0.2021 - val_accuracy: 0.9254\n",
      "Epoch 24/50\n",
      "13/13 [==============================] - 24s 2s/step - loss: 0.0477 - accuracy: 0.9880 - val_loss: 0.5204 - val_accuracy: 0.8731\n",
      "Epoch 25/50\n",
      "13/13 [==============================] - 24s 2s/step - loss: 0.0652 - accuracy: 0.9880 - val_loss: 0.2868 - val_accuracy: 0.8955\n",
      "Epoch 26/50\n",
      "13/13 [==============================] - 25s 2s/step - loss: 0.0725 - accuracy: 0.9712 - val_loss: 0.3778 - val_accuracy: 0.8806\n",
      "Epoch 27/50\n",
      "13/13 [==============================] - 25s 2s/step - loss: 0.0345 - accuracy: 0.9856 - val_loss: 0.3207 - val_accuracy: 0.9030\n",
      "Epoch 28/50\n",
      "13/13 [==============================] - 24s 2s/step - loss: 0.0323 - accuracy: 0.9928 - val_loss: 0.5765 - val_accuracy: 0.8657\n",
      "Epoch 29/50\n",
      "13/13 [==============================] - 23s 2s/step - loss: 0.0700 - accuracy: 0.9808 - val_loss: 0.2900 - val_accuracy: 0.9030\n",
      "Epoch 30/50\n",
      "13/13 [==============================] - 23s 2s/step - loss: 0.0232 - accuracy: 0.9976 - val_loss: 0.3907 - val_accuracy: 0.9030\n",
      "Epoch 31/50\n",
      "13/13 [==============================] - 24s 2s/step - loss: 0.0368 - accuracy: 0.9856 - val_loss: 0.2955 - val_accuracy: 0.9030\n",
      "Epoch 32/50\n",
      "13/13 [==============================] - 23s 2s/step - loss: 0.0314 - accuracy: 0.9928 - val_loss: 0.3438 - val_accuracy: 0.9030\n",
      "Epoch 33/50\n",
      "13/13 [==============================] - 27s 2s/step - loss: 0.0378 - accuracy: 0.9952 - val_loss: 0.6091 - val_accuracy: 0.8657\n",
      "Epoch 34/50\n",
      "13/13 [==============================] - 25s 2s/step - loss: 0.0527 - accuracy: 0.9856 - val_loss: 0.2398 - val_accuracy: 0.9104\n",
      "Epoch 35/50\n",
      "13/13 [==============================] - 23s 2s/step - loss: 0.0272 - accuracy: 0.9976 - val_loss: 0.3976 - val_accuracy: 0.8955\n",
      "Epoch 36/50\n",
      "13/13 [==============================] - 25s 2s/step - loss: 0.0423 - accuracy: 0.9904 - val_loss: 0.8295 - val_accuracy: 0.8582\n",
      "Epoch 37/50\n",
      "13/13 [==============================] - 26s 2s/step - loss: 0.0636 - accuracy: 0.9832 - val_loss: 0.3422 - val_accuracy: 0.9030\n",
      "Epoch 38/50\n",
      "13/13 [==============================] - 24s 2s/step - loss: 0.0275 - accuracy: 0.9928 - val_loss: 0.6424 - val_accuracy: 0.8881\n",
      "Epoch 39/50\n",
      "13/13 [==============================] - 24s 2s/step - loss: 0.0392 - accuracy: 0.9904 - val_loss: 0.4569 - val_accuracy: 0.8806\n",
      "Epoch 40/50\n",
      "13/13 [==============================] - 24s 2s/step - loss: 0.0388 - accuracy: 0.9880 - val_loss: 0.2294 - val_accuracy: 0.9403\n",
      "Epoch 41/50\n",
      "13/13 [==============================] - 23s 2s/step - loss: 0.0473 - accuracy: 0.9880 - val_loss: 0.2463 - val_accuracy: 0.9254\n",
      "Epoch 42/50\n",
      "13/13 [==============================] - 23s 2s/step - loss: 0.0261 - accuracy: 0.9976 - val_loss: 0.4265 - val_accuracy: 0.8731\n",
      "Epoch 43/50\n",
      "13/13 [==============================] - 23s 2s/step - loss: 0.0504 - accuracy: 0.9856 - val_loss: 0.2190 - val_accuracy: 0.9254\n",
      "Epoch 44/50\n",
      "13/13 [==============================] - 25s 2s/step - loss: 0.0469 - accuracy: 0.9952 - val_loss: 0.6096 - val_accuracy: 0.8657\n",
      "Epoch 45/50\n",
      "13/13 [==============================] - 22s 2s/step - loss: 0.0505 - accuracy: 0.9904 - val_loss: 0.2021 - val_accuracy: 0.9254\n",
      "Epoch 46/50\n",
      "13/13 [==============================] - 24s 2s/step - loss: 0.0259 - accuracy: 0.9952 - val_loss: 0.3052 - val_accuracy: 0.9179\n",
      "Epoch 47/50\n",
      "13/13 [==============================] - 24s 2s/step - loss: 0.0204 - accuracy: 0.9952 - val_loss: 0.2862 - val_accuracy: 0.9254\n",
      "Epoch 48/50\n",
      "13/13 [==============================] - 25s 2s/step - loss: 0.0259 - accuracy: 0.9952 - val_loss: 0.5596 - val_accuracy: 0.8806\n",
      "Epoch 49/50\n",
      "13/13 [==============================] - 26s 2s/step - loss: 0.0394 - accuracy: 0.9856 - val_loss: 0.2187 - val_accuracy: 0.9328\n",
      "Epoch 50/50\n",
      "13/13 [==============================] - 24s 2s/step - loss: 0.0322 - accuracy: 0.9928 - val_loss: 0.2069 - val_accuracy: 0.9254\n"
     ]
    }
   ],
   "source": [
    "# fit the model\n",
    "# Run the cell. It will take some time to execute\n",
    "\n",
    "r = model.fit(\n",
    "  training_set,\n",
    "  validation_data=test_set,\n",
    "  epochs=50,\n",
    "  steps_per_epoch=len(training_set),\n",
    "  validation_steps=len(test_set)\n",
    ")"
   ]
  },
  {
   "cell_type": "code",
   "execution_count": null,
   "metadata": {},
   "outputs": [],
   "source": []
  },
  {
   "cell_type": "code",
   "execution_count": 60,
   "metadata": {},
   "outputs": [
    {
     "data": {
      "image/png": "[encoded data removed]",
      "text/plain": [
       "<Figure size 640x480 with 1 Axes>"
      ]
     },
     "metadata": {},
     "output_type": "display_data"
    },
    {
     "data": {
      "image/png": "[encoded data removed]",
      "text/plain": [
       "<Figure size 640x480 with 1 Axes>"
      ]
     },
     "metadata": {},
     "output_type": "display_data"
    },
    {
     "data": {
      "text/plain": [
       "<Figure size 640x480 with 0 Axes>"
      ]
     },
     "metadata": {},
     "output_type": "display_data"
    }
   ],
   "source": [
    "# plot the loss\n",
    "plt.plot(r.history['loss'], label='train loss')\n",
    "plt.plot(r.history['val_loss'], label='val loss')\n",
    "plt.legend()\n",
    "plt.show()\n",
    "plt.savefig('LossVal_loss')\n",
    "\n",
    "# plot the accuracy\n",
    "plt.plot(r.history['accuracy'], label='train acc')\n",
    "plt.plot(r.history['val_accuracy'], label='val acc')\n",
    "plt.legend()\n",
    "plt.show()\n",
    "plt.savefig('AccVal_acc')"
   ]
  },
  {
   "cell_type": "code",
   "execution_count": 61,
   "metadata": {},
   "outputs": [
    {
     "name": "stderr",
     "output_type": "stream",
     "text": [
      "c:\\Users\\aarun\\ML_Deployments\\Disease_Detection-Malaria\\venv\\lib\\site-packages\\keras\\src\\engine\\training.py:3103: UserWarning: You are saving your model as an HDF5 file via `model.save()`. This file format is considered legacy. We recommend using instead the native Keras format, e.g. `model.save('my_model.keras')`.\n",
      "  saving_api.save_model(\n"
     ]
    }
   ],
   "source": [
    "# save it as a h5 file\n",
    "\n",
    "model.save('model_vgg19.h5')"
   ]
  },
  {
   "cell_type": "code",
   "execution_count": null,
   "metadata": {},
   "outputs": [],
   "source": []
  },
  {
   "cell_type": "code",
   "execution_count": 62,
   "metadata": {},
   "outputs": [
    {
     "name": "stdout",
     "output_type": "stream",
     "text": [
      "5/5 [==============================] - 3s 334ms/step\n"
     ]
    }
   ],
   "source": [
    "\n",
    "y_pred = model.predict(test_set)\n"
   ]
  },
  {
   "cell_type": "code",
   "execution_count": 63,
   "metadata": {},
   "outputs": [
    {
     "data": {
      "text/plain": [
       "array([[1.00000000e+00, 0.00000000e+00],\n",
       "       [1.00000000e+00, 2.91339912e-08],\n",
       "       [1.00000000e+00, 2.06146811e-09],\n",
       "       [1.00000000e+00, 1.41513271e-19],\n",
       "       [2.46999483e-03, 9.97530043e-01],\n",
       "       [1.00000000e+00, 1.31471802e-08],\n",
       "       [1.00000000e+00, 6.04041439e-09],\n",
       "       [6.65935688e-03, 9.93340671e-01],\n",
       "       [9.99999881e-01, 1.63300768e-07],\n",
       "       [1.00000000e+00, 7.47645695e-11],\n",
       "       [1.00000000e+00, 2.06008579e-08],\n",
       "       [9.83500600e-01, 1.64993983e-02],\n",
       "       [1.00000000e+00, 4.04879817e-27],\n",
       "       [1.47833652e-03, 9.98521626e-01],\n",
       "       [5.92329015e-04, 9.99407649e-01],\n",
       "       [1.00000000e+00, 1.24125449e-36],\n",
       "       [9.99999881e-01, 1.27366633e-07],\n",
       "       [1.00000000e+00, 2.43340981e-12],\n",
       "       [1.00000000e+00, 1.08077078e-12],\n",
       "       [5.75075112e-03, 9.94249225e-01],\n",
       "       [9.99996424e-01, 3.54871440e-06],\n",
       "       [1.00000000e+00, 3.39092171e-19],\n",
       "       [9.99999881e-01, 9.46151033e-08],\n",
       "       [4.89241630e-03, 9.95107651e-01],\n",
       "       [1.00000000e+00, 4.05270269e-37],\n",
       "       [1.00000000e+00, 5.50746941e-36],\n",
       "       [1.38123229e-03, 9.98618722e-01],\n",
       "       [9.99993324e-01, 6.61627064e-06],\n",
       "       [9.99560893e-01, 4.39034397e-04],\n",
       "       [6.29792083e-03, 9.93702054e-01],\n",
       "       [1.57087063e-03, 9.98429120e-01],\n",
       "       [5.73935453e-04, 9.99426126e-01],\n",
       "       [1.37500092e-03, 9.98625040e-01],\n",
       "       [2.65168492e-03, 9.97348309e-01],\n",
       "       [9.99999881e-01, 1.09793760e-07],\n",
       "       [1.00000000e+00, 5.08347640e-08],\n",
       "       [2.31624860e-03, 9.97683764e-01],\n",
       "       [9.99990821e-01, 9.21924857e-06],\n",
       "       [3.13197151e-02, 9.68680322e-01],\n",
       "       [9.99999762e-01, 1.93010735e-07],\n",
       "       [2.29210733e-03, 9.97707844e-01],\n",
       "       [2.45390343e-03, 9.97546136e-01],\n",
       "       [1.00000000e+00, 5.05489739e-15],\n",
       "       [6.01385999e-03, 9.93986130e-01],\n",
       "       [9.99459088e-01, 5.40917739e-04],\n",
       "       [9.99991775e-01, 8.27143776e-06],\n",
       "       [1.00000000e+00, 1.03434739e-09],\n",
       "       [1.00000000e+00, 5.69021913e-11],\n",
       "       [3.06078494e-01, 6.93921566e-01],\n",
       "       [9.98007476e-01, 1.99251343e-03],\n",
       "       [2.08419599e-02, 9.79157984e-01],\n",
       "       [1.00000000e+00, 1.77916633e-08],\n",
       "       [8.06508062e-04, 9.99193490e-01],\n",
       "       [3.80462825e-01, 6.19537175e-01],\n",
       "       [9.99998808e-01, 1.20211848e-06],\n",
       "       [6.47564465e-03, 9.93524313e-01],\n",
       "       [1.00000000e+00, 4.33478326e-14],\n",
       "       [9.99999523e-01, 4.67217120e-07],\n",
       "       [1.00000000e+00, 2.00078532e-09],\n",
       "       [9.75125194e-01, 2.48748213e-02],\n",
       "       [2.24203095e-02, 9.77579653e-01],\n",
       "       [1.78215059e-03, 9.98217881e-01],\n",
       "       [4.48772823e-03, 9.95512307e-01],\n",
       "       [1.00000000e+00, 2.50602889e-11],\n",
       "       [9.80219662e-01, 1.97803937e-02],\n",
       "       [9.99964714e-01, 3.52382631e-05],\n",
       "       [1.00000000e+00, 2.03918693e-15],\n",
       "       [1.01579237e-03, 9.98984158e-01],\n",
       "       [9.99884486e-01, 1.15472976e-04],\n",
       "       [3.88842762e-01, 6.11157238e-01],\n",
       "       [1.00000000e+00, 3.98695854e-10],\n",
       "       [3.60176456e-03, 9.96398211e-01],\n",
       "       [9.99997258e-01, 2.69874590e-06],\n",
       "       [9.89624918e-01, 1.03750387e-02],\n",
       "       [1.00000000e+00, 1.39876815e-12],\n",
       "       [2.84782494e-03, 9.97152090e-01],\n",
       "       [1.00000000e+00, 2.25852547e-16],\n",
       "       [1.22475752e-03, 9.98775184e-01],\n",
       "       [4.95209824e-03, 9.95047867e-01],\n",
       "       [1.00000000e+00, 2.46184406e-09],\n",
       "       [9.99343097e-01, 6.56941789e-04],\n",
       "       [2.75602285e-03, 9.97244000e-01],\n",
       "       [1.00000000e+00, 9.80732598e-17],\n",
       "       [2.08386499e-03, 9.97916162e-01],\n",
       "       [9.99996543e-01, 3.48084654e-06],\n",
       "       [1.55361621e-02, 9.84463751e-01],\n",
       "       [9.57130134e-01, 4.28699329e-02],\n",
       "       [9.44892883e-01, 5.51070683e-02],\n",
       "       [5.16767740e-01, 4.83232290e-01],\n",
       "       [1.59372331e-03, 9.98406351e-01],\n",
       "       [9.99999642e-01, 3.65727573e-07],\n",
       "       [9.99999881e-01, 1.44742955e-07],\n",
       "       [1.00000000e+00, 1.90945502e-12],\n",
       "       [9.99995828e-01, 4.13389625e-06],\n",
       "       [1.00000000e+00, 5.64393698e-10],\n",
       "       [9.99999404e-01, 6.45101522e-07],\n",
       "       [8.01177174e-02, 9.19882298e-01],\n",
       "       [4.63869125e-01, 5.36130905e-01],\n",
       "       [9.99998093e-01, 1.89338732e-06],\n",
       "       [7.24026561e-03, 9.92759705e-01],\n",
       "       [2.02102307e-03, 9.97978985e-01],\n",
       "       [1.00000000e+00, 4.96483388e-13],\n",
       "       [3.75934124e-01, 6.24065936e-01],\n",
       "       [1.00000000e+00, 1.26838815e-08],\n",
       "       [1.00000000e+00, 1.06335969e-12],\n",
       "       [1.00000000e+00, 4.08389295e-12],\n",
       "       [9.99959111e-01, 4.08530723e-05],\n",
       "       [9.99997735e-01, 2.30938713e-06],\n",
       "       [3.84417595e-03, 9.96155798e-01],\n",
       "       [9.99999762e-01, 2.63718817e-07],\n",
       "       [9.77315567e-03, 9.90226865e-01],\n",
       "       [9.97240186e-01, 2.75975629e-03],\n",
       "       [9.57531750e-01, 4.24682423e-02],\n",
       "       [9.99999881e-01, 1.09595625e-07],\n",
       "       [1.22443272e-03, 9.98775542e-01],\n",
       "       [4.62012505e-03, 9.95379925e-01],\n",
       "       [2.62958999e-03, 9.97370362e-01],\n",
       "       [4.09907056e-03, 9.95900929e-01],\n",
       "       [9.98085618e-01, 1.91441528e-03],\n",
       "       [9.99999881e-01, 1.27154976e-07],\n",
       "       [1.66744087e-03, 9.98332560e-01],\n",
       "       [1.00000000e+00, 5.38442981e-27],\n",
       "       [9.99711692e-01, 2.88286043e-04],\n",
       "       [2.71980278e-03, 9.97280121e-01],\n",
       "       [1.00000000e+00, 1.72962759e-13],\n",
       "       [3.10456961e-01, 6.89543009e-01],\n",
       "       [1.02937119e-02, 9.89706278e-01],\n",
       "       [9.99879122e-01, 1.20907855e-04],\n",
       "       [1.00000000e+00, 5.04136453e-21],\n",
       "       [1.00000000e+00, 2.54134526e-11],\n",
       "       [9.99999523e-01, 4.68603105e-07],\n",
       "       [9.98287499e-01, 1.71252969e-03],\n",
       "       [9.99996185e-01, 3.82086137e-06],\n",
       "       [8.92196724e-04, 9.99107778e-01]], dtype=float32)"
      ]
     },
     "execution_count": 63,
     "metadata": {},
     "output_type": "execute_result"
    }
   ],
   "source": [
    "y_pred"
   ]
  },
  {
   "cell_type": "code",
   "execution_count": 64,
   "metadata": {},
   "outputs": [],
   "source": [
    "import numpy as np\n",
    "y_pred = np.argmax(y_pred, axis=1)"
   ]
  },
  {
   "cell_type": "code",
   "execution_count": 65,
   "metadata": {},
   "outputs": [
    {
     "data": {
      "text/plain": [
       "array([0, 0, 0, 0, 1, 0, 0, 1, 0, 0, 0, 0, 0, 1, 1, 0, 0, 0, 0, 1, 0, 0,\n",
       "       0, 1, 0, 0, 1, 0, 0, 1, 1, 1, 1, 1, 0, 0, 1, 0, 1, 0, 1, 1, 0, 1,\n",
       "       0, 0, 0, 0, 1, 0, 1, 0, 1, 1, 0, 1, 0, 0, 0, 0, 1, 1, 1, 0, 0, 0,\n",
       "       0, 1, 0, 1, 0, 1, 0, 0, 0, 1, 0, 1, 1, 0, 0, 1, 0, 1, 0, 1, 0, 0,\n",
       "       0, 1, 0, 0, 0, 0, 0, 0, 1, 1, 0, 1, 1, 0, 1, 0, 0, 0, 0, 0, 1, 0,\n",
       "       1, 0, 0, 0, 1, 1, 1, 1, 0, 0, 1, 0, 0, 1, 0, 1, 1, 0, 0, 0, 0, 0,\n",
       "       0, 1], dtype=int64)"
      ]
     },
     "execution_count": 65,
     "metadata": {},
     "output_type": "execute_result"
    }
   ],
   "source": [
    "y_pred"
   ]
  },
  {
   "cell_type": "code",
   "execution_count": null,
   "metadata": {},
   "outputs": [],
   "source": []
  },
  {
   "cell_type": "code",
   "execution_count": 66,
   "metadata": {},
   "outputs": [],
   "source": [
    "model=load_model('model_vgg19.h5')"
   ]
  },
  {
   "cell_type": "code",
   "execution_count": null,
   "metadata": {},
   "outputs": [],
   "source": []
  },
  {
   "cell_type": "code",
   "execution_count": 74,
   "metadata": {},
   "outputs": [],
   "source": [
    "img=image.load_img('Dataset/Test/Uninfected/3.png',target_size=(224,224))\n",
    "\n"
   ]
  },
  {
   "cell_type": "code",
   "execution_count": 75,
   "metadata": {},
   "outputs": [
    {
     "data": {
      "text/plain": [
       "array([[[0., 0., 0.],\n",
       "        [0., 0., 0.],\n",
       "        [0., 0., 0.],\n",
       "        ...,\n",
       "        [0., 0., 0.],\n",
       "        [0., 0., 0.],\n",
       "        [0., 0., 0.]],\n",
       "\n",
       "       [[0., 0., 0.],\n",
       "        [0., 0., 0.],\n",
       "        [0., 0., 0.],\n",
       "        ...,\n",
       "        [0., 0., 0.],\n",
       "        [0., 0., 0.],\n",
       "        [0., 0., 0.]],\n",
       "\n",
       "       [[0., 0., 0.],\n",
       "        [0., 0., 0.],\n",
       "        [0., 0., 0.],\n",
       "        ...,\n",
       "        [0., 0., 0.],\n",
       "        [0., 0., 0.],\n",
       "        [0., 0., 0.]],\n",
       "\n",
       "       ...,\n",
       "\n",
       "       [[0., 0., 0.],\n",
       "        [0., 0., 0.],\n",
       "        [0., 0., 0.],\n",
       "        ...,\n",
       "        [0., 0., 0.],\n",
       "        [0., 0., 0.],\n",
       "        [0., 0., 0.]],\n",
       "\n",
       "       [[0., 0., 0.],\n",
       "        [0., 0., 0.],\n",
       "        [0., 0., 0.],\n",
       "        ...,\n",
       "        [0., 0., 0.],\n",
       "        [0., 0., 0.],\n",
       "        [0., 0., 0.]],\n",
       "\n",
       "       [[0., 0., 0.],\n",
       "        [0., 0., 0.],\n",
       "        [0., 0., 0.],\n",
       "        ...,\n",
       "        [0., 0., 0.],\n",
       "        [0., 0., 0.],\n",
       "        [0., 0., 0.]]], dtype=float32)"
      ]
     },
     "execution_count": 75,
     "metadata": {},
     "output_type": "execute_result"
    }
   ],
   "source": [
    "x=image.img_to_array(img)\n",
    "x"
   ]
  },
  {
   "cell_type": "code",
   "execution_count": 76,
   "metadata": {},
   "outputs": [
    {
     "data": {
      "text/plain": [
       "(224, 224, 3)"
      ]
     },
     "execution_count": 76,
     "metadata": {},
     "output_type": "execute_result"
    }
   ],
   "source": [
    "x.shape"
   ]
  },
  {
   "cell_type": "code",
   "execution_count": 77,
   "metadata": {},
   "outputs": [],
   "source": [
    "x=x/255"
   ]
  },
  {
   "cell_type": "code",
   "execution_count": 78,
   "metadata": {},
   "outputs": [
    {
     "data": {
      "text/plain": [
       "(1, 224, 224, 3)"
      ]
     },
     "execution_count": 78,
     "metadata": {},
     "output_type": "execute_result"
    }
   ],
   "source": [
    "x=np.expand_dims(x,axis=0)\n",
    "img_data=preprocess_input(x)\n",
    "img_data.shape"
   ]
  },
  {
   "cell_type": "code",
   "execution_count": 79,
   "metadata": {},
   "outputs": [
    {
     "name": "stdout",
     "output_type": "stream",
     "text": [
      "1/1 [==============================] - 0s 112ms/step\n"
     ]
    },
    {
     "data": {
      "text/plain": [
       "array([[0., 1.]], dtype=float32)"
      ]
     },
     "execution_count": 79,
     "metadata": {},
     "output_type": "execute_result"
    }
   ],
   "source": [
    "model.predict(img_data)"
   ]
  },
  {
   "cell_type": "code",
   "execution_count": 80,
   "metadata": {},
   "outputs": [
    {
     "name": "stdout",
     "output_type": "stream",
     "text": [
      "1/1 [==============================] - 0s 112ms/step\n"
     ]
    }
   ],
   "source": [
    "a=np.argmax(model.predict(img_data), axis=1)"
   ]
  },
  {
   "cell_type": "code",
   "execution_count": 81,
   "metadata": {},
   "outputs": [
    {
     "name": "stdout",
     "output_type": "stream",
     "text": [
      "Uninfected\n"
     ]
    }
   ],
   "source": [
    "if(a==1):\n",
    "    print(\"Uninfected\")\n",
    "else:\n",
    "    print(\"Infected\")"
   ]
  },
  {
   "cell_type": "code",
   "execution_count": null,
   "metadata": {},
   "outputs": [],
   "source": []
  },
  {
   "cell_type": "code",
   "execution_count": null,
   "metadata": {},
   "outputs": [],
   "source": []
  }
 ],
 "metadata": {
  "kernelspec": {
   "display_name": "Python 3 (ipykernel)",
   "language": "python",
   "name": "python3"
  },
  "language_info": {
   "codemirror_mode": {
    "name": "ipython",
    "version": 3
   },
   "file_extension": ".py",
   "mimetype": "text/x-python",
   "name": "python",
   "nbconvert_exporter": "python",
   "pygments_lexer": "ipython3",
   "version": "3.9.0"
  }
 },
 "nbformat": 4,
 "nbformat_minor": 2
}
